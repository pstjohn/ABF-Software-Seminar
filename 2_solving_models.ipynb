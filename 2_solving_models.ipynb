{
 "cells": [
  {
   "cell_type": "markdown",
   "metadata": {},
   "source": [
    "## Solving a model\n",
    "\n",
    "`cobrapy` supports several methods for finding fluxes through a metabolic network"
   ]
  },
  {
   "cell_type": "code",
   "execution_count": 1,
   "metadata": {
    "collapsed": true
   },
   "outputs": [],
   "source": [
    "import cobra\n",
    "\n",
    "# Plotting utilities\n",
    "import numpy as np\n",
    "import matplotlib.pyplot as plt\n",
    "import seaborn as sns\n",
    "sns.set(context='talk', style='ticks', color_codes=True)\n",
    "%matplotlib inline"
   ]
  },
  {
   "cell_type": "code",
   "execution_count": 2,
   "metadata": {
    "collapsed": true
   },
   "outputs": [],
   "source": [
    "test_model = cobra.io.load_yaml_model('data/test_model.yaml')"
   ]
  },
  {
   "cell_type": "markdown",
   "metadata": {},
   "source": [
    "### Objective function\n",
    "\n",
    "Model objectives can be any arbitrary linear (or quadratic, for QP) combination of the variables in the problem.\n",
    "\n",
    "For convenience, it is often preferable to specify an *objective reaction*, or a reaction through which flux should be maximized"
   ]
  },
  {
   "cell_type": "code",
   "execution_count": 3,
   "metadata": {},
   "outputs": [
    {
     "data": {
      "text/plain": [
       "'atp --> adp'"
      ]
     },
     "execution_count": 3,
     "metadata": {},
     "output_type": "execute_result"
    }
   ],
   "source": [
    "test_model.reactions.atpm.reaction"
   ]
  },
  {
   "cell_type": "code",
   "execution_count": 4,
   "metadata": {},
   "outputs": [
    {
     "data": {
      "text/html": [
       "<strong><em>Optimal</em> solution with objective value 60.000</strong><br><div>\n",
       "<style>\n",
       "    .dataframe thead tr:only-child th {\n",
       "        text-align: right;\n",
       "    }\n",
       "\n",
       "    .dataframe thead th {\n",
       "        text-align: left;\n",
       "    }\n",
       "\n",
       "    .dataframe tbody tr th {\n",
       "        vertical-align: top;\n",
       "    }\n",
       "</style>\n",
       "<table border=\"1\" class=\"dataframe\">\n",
       "  <thead>\n",
       "    <tr style=\"text-align: right;\">\n",
       "      <th></th>\n",
       "      <th>fluxes</th>\n",
       "      <th>reduced_costs</th>\n",
       "    </tr>\n",
       "  </thead>\n",
       "  <tbody>\n",
       "    <tr>\n",
       "      <th>EX_co2</th>\n",
       "      <td>60.0</td>\n",
       "      <td>0.0</td>\n",
       "    </tr>\n",
       "    <tr>\n",
       "      <th>EX_glc</th>\n",
       "      <td>-10.0</td>\n",
       "      <td>-12.0</td>\n",
       "    </tr>\n",
       "    <tr>\n",
       "      <th>GLCpts</th>\n",
       "      <td>10.0</td>\n",
       "      <td>0.0</td>\n",
       "    </tr>\n",
       "    <tr>\n",
       "      <th>atpm</th>\n",
       "      <td>60.0</td>\n",
       "      <td>0.0</td>\n",
       "    </tr>\n",
       "    <tr>\n",
       "      <th>lwg</th>\n",
       "      <td>20.0</td>\n",
       "      <td>0.0</td>\n",
       "    </tr>\n",
       "    <tr>\n",
       "      <th>upg</th>\n",
       "      <td>10.0</td>\n",
       "      <td>0.0</td>\n",
       "    </tr>\n",
       "  </tbody>\n",
       "</table>\n",
       "</div>"
      ],
      "text/plain": [
       "<Solution 60.000 at 0x119b7a2b0>"
      ]
     },
     "execution_count": 4,
     "metadata": {},
     "output_type": "execute_result"
    }
   ],
   "source": [
    "test_model.objective = test_model.reactions.atpm\n",
    "test_model.optimize()"
   ]
  },
  {
   "cell_type": "markdown",
   "metadata": {},
   "source": [
    "Several test models are available with the `cobrapy` suite, including `\"textbook\"`, `\"ecoli\"`, and `\"salmonella\"`"
   ]
  },
  {
   "cell_type": "code",
   "execution_count": 5,
   "metadata": {},
   "outputs": [
    {
     "data": {
      "text/html": [
       "\n",
       "        <table>\n",
       "            <tr>\n",
       "                <td><strong>Name</strong></td>\n",
       "                <td>e_coli_core</td>\n",
       "            </tr><tr>\n",
       "                <td><strong>Memory address</strong></td>\n",
       "                <td>0x0119b7a710</td>\n",
       "            </tr><tr>\n",
       "                <td><strong>Number of metabolites</strong></td>\n",
       "                <td>72</td>\n",
       "            </tr><tr>\n",
       "                <td><strong>Number of reactions</strong></td>\n",
       "                <td>95</td>\n",
       "            </tr><tr>\n",
       "                <td><strong>Objective expression</strong></td>\n",
       "                <td>-1.0*Biomass_Ecoli_core_reverse_2cdba + 1.0*Biomass_Ecoli_core</td>\n",
       "            </tr><tr>\n",
       "                <td><strong>Compartments</strong></td>\n",
       "                <td>cytosol, extracellular</td>\n",
       "            </tr>\n",
       "          </table>"
      ],
      "text/plain": [
       "<Model e_coli_core at 0x119b7a710>"
      ]
     },
     "execution_count": 5,
     "metadata": {},
     "output_type": "execute_result"
    }
   ],
   "source": [
    "import cobra.test\n",
    "model = cobra.test.create_test_model(\"textbook\")\n",
    "model"
   ]
  },
  {
   "cell_type": "code",
   "execution_count": 6,
   "metadata": {},
   "outputs": [],
   "source": [
    "solution = model.optimize()\n",
    "# solution"
   ]
  },
  {
   "cell_type": "markdown",
   "metadata": {},
   "source": [
    "### Summary methods\n",
    "summary methods are a quick way to display useful information about the optimized fluxes in a model."
   ]
  },
  {
   "cell_type": "code",
   "execution_count": 7,
   "metadata": {},
   "outputs": [
    {
     "name": "stdout",
     "output_type": "stream",
     "text": [
      "IN FLUXES        OUT FLUXES    OBJECTIVES\n",
      "---------------  ------------  ----------------------\n",
      "o2_e      21.8   h2o_e  29.2   Biomass_Ecol...  0.874\n",
      "glc__D_e  10     co2_e  22.8\n",
      "nh4_e      4.77  h_e    17.5\n",
      "pi_e       3.21\n"
     ]
    }
   ],
   "source": [
    "model.summary(solution)"
   ]
  },
  {
   "cell_type": "markdown",
   "metadata": {},
   "source": [
    "if no solution object is given, the model will be re-optimized in the current state"
   ]
  },
  {
   "cell_type": "code",
   "execution_count": 8,
   "metadata": {},
   "outputs": [
    {
     "name": "stdout",
     "output_type": "stream",
     "text": [
      "IN FLUXES        OUT FLUXES    OBJECTIVES\n",
      "---------------  ------------  ----------------------\n",
      "glc__D_e  10     h_e    37.5   Biomass_Ecol...  0.462\n",
      "o2_e       7.48  for_e  16\n",
      "nh4_e      2.52  ac_e   12.2\n",
      "pi_e       1.7   h2o_e   3.36\n"
     ]
    }
   ],
   "source": [
    "model.reactions.EX_co2_e.knock_out()\n",
    "\n",
    "model.summary()\n",
    "\n",
    "model.reactions.EX_co2_e.bounds = (-1000, 1000)"
   ]
  },
  {
   "cell_type": "markdown",
   "metadata": {},
   "source": [
    "Summaries can also be called on individual metabolite objects:"
   ]
  },
  {
   "cell_type": "code",
   "execution_count": 9,
   "metadata": {},
   "outputs": [
    {
     "name": "stdout",
     "output_type": "stream",
     "text": [
      "PRODUCING REACTIONS -- Pyruvate (pyr_c)\n",
      "---------------------------------------\n",
      "%      FLUX  RXN ID      REACTION\n",
      "---  ------  ----------  --------------------------------------------------\n",
      "85%   10     GLCpts      glc__D_e + pep_c --> g6p_c + pyr_c\n",
      "15%    1.76  PYK         adp_c + h_c + pep_c --> atp_c + pyr_c\n",
      "\n",
      "CONSUMING REACTIONS -- Pyruvate (pyr_c)\n",
      "---------------------------------------\n",
      "%      FLUX  RXN ID      REACTION\n",
      "---  ------  ----------  --------------------------------------------------\n",
      "79%    9.28  PDH         coa_c + nad_c + pyr_c --> accoa_c + co2_c + nadh_c\n",
      "21%    2.48  Biomass...  1.496 3pg_c + 3.7478 accoa_c + 59.81 atp_c + 0....\n"
     ]
    }
   ],
   "source": [
    "model.metabolites.pyr_c.summary()"
   ]
  },
  {
   "cell_type": "code",
   "execution_count": 10,
   "metadata": {},
   "outputs": [
    {
     "name": "stdout",
     "output_type": "stream",
     "text": [
      "PRODUCING REACTIONS -- ATP (atp_c)\n",
      "----------------------------------\n",
      "%      FLUX  RXN ID      REACTION\n",
      "---  ------  ----------  --------------------------------------------------\n",
      "67%  45.5    ATPS4r      adp_c + 4.0 h_e + pi_c <=> atp_c + h2o_c + 3.0 h_c\n",
      "23%  16      PGK         3pg_c + atp_c <=> 13dpg_c + adp_c\n",
      "7%    5.06   SUCOAS      atp_c + coa_c + succ_c <=> adp_c + pi_c + succoa_c\n",
      "3%    1.76   PYK         adp_c + h_c + pep_c --> atp_c + pyr_c\n",
      "\n",
      "CONSUMING REACTIONS -- ATP (atp_c)\n",
      "----------------------------------\n",
      "%      FLUX  RXN ID      REACTION\n",
      "---  ------  ----------  --------------------------------------------------\n",
      "76%  52.3    Biomass...  1.496 3pg_c + 3.7478 accoa_c + 59.81 atp_c + 0....\n",
      "12%   8.39   ATPM        atp_c + h2o_c --> adp_c + h_c + pi_c\n",
      "11%   7.48   PFK         atp_c + f6p_c --> adp_c + fdp_c + h_c\n",
      "0%    0.223  GLNS        atp_c + glu__L_c + nh4_c --> adp_c + gln__L_c +...\n"
     ]
    }
   ],
   "source": [
    "model.metabolites.atp_c.summary()"
   ]
  },
  {
   "cell_type": "markdown",
   "metadata": {},
   "source": [
    "### Inspecting and changing the model medium\n",
    "\n",
    "A model's `medium` describes the bounds on the exchange reactions which allow flux into the cell. In `cobrapy`, this can be convieniently set through the `model.medium` property"
   ]
  },
  {
   "cell_type": "code",
   "execution_count": 11,
   "metadata": {},
   "outputs": [
    {
     "data": {
      "text/plain": [
       "{'EX_co2_e': 1000,\n",
       " 'EX_glc__D_e': 10.0,\n",
       " 'EX_h2o_e': 1000.0,\n",
       " 'EX_h_e': 1000.0,\n",
       " 'EX_nh4_e': 1000.0,\n",
       " 'EX_o2_e': 1000.0,\n",
       " 'EX_pi_e': 1000.0}"
      ]
     },
     "execution_count": 11,
     "metadata": {},
     "output_type": "execute_result"
    }
   ],
   "source": [
    "model.medium"
   ]
  },
  {
   "cell_type": "markdown",
   "metadata": {},
   "source": [
    "For anaerobic fermentation, we can remove the availability of oxygen"
   ]
  },
  {
   "cell_type": "code",
   "execution_count": 12,
   "metadata": {},
   "outputs": [
    {
     "name": "stdout",
     "output_type": "stream",
     "text": [
      "IN FLUXES         OUT FLUXES     OBJECTIVES\n",
      "----------------  -------------  ----------------------\n",
      "glc__D_e  10      h_e     30.6   Biomass_Ecol...  0.212\n",
      "h2o_e      7.12   for_e   17.8\n",
      "nh4_e      1.15   ac_e     8.5\n",
      "pi_e       0.779  etoh_e   8.28\n",
      "co2_e      0.378\n"
     ]
    }
   ],
   "source": [
    "medium = model.medium\n",
    "medium['EX_o2_e'] = 0\n",
    "model.medium = medium\n",
    "model.summary()\n",
    "\n",
    "medium['EX_o2_e'] = 1000\n",
    "model.medium = medium"
   ]
  },
  {
   "cell_type": "markdown",
   "metadata": {},
   "source": [
    "### Reversible changes to model properties with context managers\n",
    "\n",
    "In the previous examples, we've been manually undoing changes to the model properties after each iteration. We can instead use the provided context managers to reversibly modify the model's state.\n",
    "\n",
    "*Note:* This is significantly faster than duplicating the model via `model.copy()`"
   ]
  },
  {
   "cell_type": "code",
   "execution_count": 13,
   "metadata": {},
   "outputs": [
    {
     "name": "stdout",
     "output_type": "stream",
     "text": [
      "IN FLUXES        OUT FLUXES    OBJECTIVES\n",
      "---------------  ------------  ----------------------\n",
      "o2_e      22.2   h2o_e  29.5   Biomass_Ecol...  0.865\n",
      "glc__D_e  10     co2_e  23.2\n",
      "nh4_e      4.72  h_e    17.4\n",
      "pi_e       3.18\n"
     ]
    }
   ],
   "source": [
    "with model:\n",
    "    model.reactions.PYK.knock_out()\n",
    "    model.summary()"
   ]
  },
  {
   "cell_type": "code",
   "execution_count": 14,
   "metadata": {},
   "outputs": [
    {
     "data": {
      "text/plain": [
       "(0.0, 1000.0)"
      ]
     },
     "execution_count": 14,
     "metadata": {},
     "output_type": "execute_result"
    }
   ],
   "source": [
    "model.reactions.PYK.bounds"
   ]
  },
  {
   "cell_type": "markdown",
   "metadata": {},
   "source": [
    "These are also useful for in-the-loop modifications"
   ]
  },
  {
   "cell_type": "code",
   "execution_count": 15,
   "metadata": {},
   "outputs": [
    {
     "data": {
      "image/png": "[encoded data removed]",
      "text/plain": [
       "<matplotlib.figure.Figure at 0x119e04c88>"
      ]
     },
     "metadata": {},
     "output_type": "display_data"
    }
   ],
   "source": [
    "o2_bound = np.linspace(0, 40, 200)\n",
    "\n",
    "growth_rates = []\n",
    "for bound in o2_bound:\n",
    "    with model:\n",
    "        model.reactions.EX_o2_e.lower_bound = -bound\n",
    "        growth_rates += [model.slim_optimize()]\n",
    "\n",
    "plt.plot(o2_bound, growth_rates, '-')\n",
    "plt.ylabel('Growth Rate (hr^-1)')\n",
    "plt.xlabel('Maximum O2 uptake (mmol/g DCW/hr)')\n",
    "sns.despine(trim=True, offset=10)"
   ]
  },
  {
   "cell_type": "markdown",
   "metadata": {},
   "source": [
    "## Flux analysis methods\n",
    "\n",
    "`cobrapy` includes a number of common optimization methods in addition to traditional FBA\n",
    "\n",
    "### Parsimonius FBA\n",
    "`pfba` minimizes the sum of absolute values of the individual fluxes in the model. This is an efficient technique which helps to alleviate the occurance of thermodynamically infeasible flux loops"
   ]
  },
  {
   "cell_type": "code",
   "execution_count": 16,
   "metadata": {},
   "outputs": [
    {
     "name": "stdout",
     "output_type": "stream",
     "text": [
      "IN FLUXES        OUT FLUXES    OBJECTIVES\n",
      "---------------  ------------  ----------------------\n",
      "o2_e      21.8   h2o_e  29.2   Biomass_Ecol...  0.874\n",
      "glc__D_e  10     co2_e  22.8\n",
      "nh4_e      4.77  h_e    17.5\n",
      "pi_e       3.21\n"
     ]
    }
   ],
   "source": [
    "solution = cobra.flux_analysis.pfba(model)\n",
    "model.summary(solution)"
   ]
  },
  {
   "cell_type": "markdown",
   "metadata": {},
   "source": [
    "### Minimization of metabolic adjustment (MOMA)\n",
    "\n",
    "MOMA seeks to find flux predictions for knock-out strains that are as close as possible to reference (wild-type) solution."
   ]
  },
  {
   "cell_type": "code",
   "execution_count": 17,
   "metadata": {},
   "outputs": [
    {
     "name": "stdout",
     "output_type": "stream",
     "text": [
      "IN FLUXES        OUT FLUXES    OBJECTIVES\n",
      "---------------  ------------  ----------------------\n",
      "o2_e      21.8   h2o_e  29.2   Biomass_Ecol...  0.874\n",
      "glc__D_e  10     co2_e  22.8\n",
      "nh4_e      4.77  h_e    17.5\n",
      "pi_e       3.21\n"
     ]
    }
   ],
   "source": [
    "wt_solution = cobra.flux_analysis.pfba(model)\n",
    "model.summary(wt_solution)"
   ]
  },
  {
   "cell_type": "code",
   "execution_count": 18,
   "metadata": {},
   "outputs": [
    {
     "name": "stdout",
     "output_type": "stream",
     "text": [
      "IN FLUXES         OUT FLUXES    OBJECTIVES\n",
      "----------------  ------------  ---------------------\n",
      "o2_e      19.1    h2o_e  20.6   Biomass_Ecol...  0.17\n",
      "glc__D_e   4.43   co2_e  19.3\n",
      "nh4_e      0.927  h_e     3.41\n",
      "pi_e       0.625\n"
     ]
    }
   ],
   "source": [
    "with model:\n",
    "    cobra.flux_analysis.moma.add_moma(model)\n",
    "    model.reactions.TPI.knock_out()\n",
    "    moma_solution = model.optimize()\n",
    "    \n",
    "model.summary(moma_solution)"
   ]
  },
  {
   "cell_type": "code",
   "execution_count": 19,
   "metadata": {},
   "outputs": [
    {
     "name": "stdout",
     "output_type": "stream",
     "text": [
      "PRODUCING REACTIONS -- Glyceraldehyde 3-phosphate (g3p_c)\n",
      "---------------------------------------------------------\n",
      "%      FLUX  RXN ID      REACTION\n",
      "---  ------  ----------  --------------------------------------------------\n",
      "42%   7.48   FBA         fdp_c <=> dhap_c + g3p_c\n",
      "42%   7.48   TPI         dhap_c <=> g3p_c\n",
      "8%    1.5    TKT1        r5p_c + xu5p__D_c <=> g3p_c + s7p_c\n",
      "7%    1.18   TKT2        e4p_c + xu5p__D_c <=> f6p_c + g3p_c\n",
      "\n",
      "CONSUMING REACTIONS -- Glyceraldehyde 3-phosphate (g3p_c)\n",
      "---------------------------------------------------------\n",
      "%      FLUX  RXN ID      REACTION\n",
      "---  ------  ----------  --------------------------------------------------\n",
      "91%  16      GAPD        g3p_c + nad_c + pi_c <=> 13dpg_c + h_c + nadh_c\n",
      "8%    1.5    TALA        g3p_c + s7p_c <=> e4p_c + f6p_c\n",
      "1%    0.113  Biomass...  1.496 3pg_c + 3.7478 accoa_c + 59.81 atp_c + 0....\n"
     ]
    }
   ],
   "source": [
    "model.metabolites.g3p_c.summary(wt_solution)"
   ]
  },
  {
   "cell_type": "code",
   "execution_count": 20,
   "metadata": {},
   "outputs": [
    {
     "name": "stdout",
     "output_type": "stream",
     "text": [
      "PRODUCING REACTIONS -- Glyceraldehyde 3-phosphate (g3p_c)\n",
      "---------------------------------------------------------\n",
      "%      FLUX  RXN ID      REACTION\n",
      "---  ------  ----------  --------------------------------------------------\n",
      "50%  4.23    TKT1        r5p_c + xu5p__D_c <=> g3p_c + s7p_c\n",
      "50%  4.17    TKT2        e4p_c + xu5p__D_c <=> f6p_c + g3p_c\n",
      "\n",
      "CONSUMING REACTIONS -- Glyceraldehyde 3-phosphate (g3p_c)\n",
      "---------------------------------------------------------\n",
      "%      FLUX  RXN ID      REACTION\n",
      "---  ------  ----------  --------------------------------------------------\n",
      "50%  4.23    TALA        g3p_c + s7p_c <=> e4p_c + f6p_c\n",
      "49%  4.14    GAPD        g3p_c + nad_c + pi_c <=> 13dpg_c + h_c + nadh_c\n",
      "0%   0.0219  Biomass...  1.496 3pg_c + 3.7478 accoa_c + 59.81 atp_c + 0....\n"
     ]
    }
   ],
   "source": [
    "model.metabolites.g3p_c.summary(moma_solution)"
   ]
  },
  {
   "cell_type": "markdown",
   "metadata": {},
   "source": [
    "### Flux variability analysis (FVA)\n",
    "\n",
    "Flux variability analysis (FVA) quantifies the ranges of flux that are possible through each reaction while holding the model's objective value at a fixed percentage of its maximum.\n",
    "\n",
    "This technique is useful for identifying feasible regions of flux, or assessing the identifiability of different reactions from experimental data."
   ]
  },
  {
   "cell_type": "code",
   "execution_count": 21,
   "metadata": {},
   "outputs": [
    {
     "data": {
      "text/html": [
       "<div>\n",
       "<style>\n",
       "    .dataframe thead tr:only-child th {\n",
       "        text-align: right;\n",
       "    }\n",
       "\n",
       "    .dataframe thead th {\n",
       "        text-align: left;\n",
       "    }\n",
       "\n",
       "    .dataframe tbody tr th {\n",
       "        vertical-align: top;\n",
       "    }\n",
       "</style>\n",
       "<table border=\"1\" class=\"dataframe\">\n",
       "  <thead>\n",
       "    <tr style=\"text-align: right;\">\n",
       "      <th></th>\n",
       "      <th>maximum</th>\n",
       "      <th>minimum</th>\n",
       "    </tr>\n",
       "  </thead>\n",
       "  <tbody>\n",
       "    <tr>\n",
       "      <th>ACALD</th>\n",
       "      <td>1.678434e-17</td>\n",
       "      <td>-1.271185</td>\n",
       "    </tr>\n",
       "    <tr>\n",
       "      <th>ACALDt</th>\n",
       "      <td>0.000000e+00</td>\n",
       "      <td>-1.271185</td>\n",
       "    </tr>\n",
       "    <tr>\n",
       "      <th>ACKr</th>\n",
       "      <td>0.000000e+00</td>\n",
       "      <td>-1.906778</td>\n",
       "    </tr>\n",
       "    <tr>\n",
       "      <th>ACONTa</th>\n",
       "      <td>8.277549e+00</td>\n",
       "      <td>1.687833</td>\n",
       "    </tr>\n",
       "    <tr>\n",
       "      <th>ACONTb</th>\n",
       "      <td>8.277549e+00</td>\n",
       "      <td>1.687833</td>\n",
       "    </tr>\n",
       "  </tbody>\n",
       "</table>\n",
       "</div>"
      ],
      "text/plain": [
       "             maximum   minimum\n",
       "ACALD   1.678434e-17 -1.271185\n",
       "ACALDt  0.000000e+00 -1.271185\n",
       "ACKr    0.000000e+00 -1.906778\n",
       "ACONTa  8.277549e+00  1.687833\n",
       "ACONTb  8.277549e+00  1.687833"
      ]
     },
     "execution_count": 21,
     "metadata": {},
     "output_type": "execute_result"
    }
   ],
   "source": [
    "fva_results = cobra.flux_analysis.flux_variability_analysis(model, fraction_of_optimum=0.95)\n",
    "fva_results.head()"
   ]
  },
  {
   "cell_type": "markdown",
   "metadata": {},
   "source": [
    "Flux variability methods are also available from within the summary methods"
   ]
  },
  {
   "cell_type": "code",
   "execution_count": 22,
   "metadata": {},
   "outputs": [
    {
     "name": "stdout",
     "output_type": "stream",
     "text": [
      "IN FLUXES                       OUT FLUXES                      OBJECTIVES\n",
      "------------------------------  ------------------------------  ----------------------\n",
      "id          Flux  Range         id          Flux  Range         Biomass_Ecol...  0.874\n",
      "--------  ------  ------------  --------  ------  ------------\n",
      "o2_e       21.8   [19.9, 23.7]  h2o_e       29.2  [25, 30.7]\n",
      "glc__D_e   10     [9.52, 10]    co2_e       22.8  [18.9, 24.7]\n",
      "nh4_e       4.77  [4.53, 5.16]  h_e         17.5  [16.7, 22.4]\n",
      "pi_e        3.21  [3.05, 3.21]  for_e        0    [0, 5.72]\n",
      "                                ac_e         0    [0, 1.91]\n",
      "                                acald_e      0    [0, 1.27]\n",
      "                                pyr_e        0    [0, 1.27]\n",
      "                                etoh_e       0    [0, 1.11]\n",
      "                                lac__D_e     0    [0, 1.07]\n",
      "                                succ_e       0    [0, 0.837]\n",
      "                                akg_e        0    [0, 0.715]\n",
      "                                glu__L_e     0    [0, 0.636]\n"
     ]
    }
   ],
   "source": [
    "model.summary(fva=0.95)"
   ]
  },
  {
   "cell_type": "code",
   "execution_count": 23,
   "metadata": {},
   "outputs": [
    {
     "name": "stdout",
     "output_type": "stream",
     "text": [
      "PRODUCING REACTIONS -- ATP (atp_c)\n",
      "----------------------------------\n",
      "%      FLUX  RANGE          RXN ID      REACTION\n",
      "---  ------  -------------  ----------  ----------------------------------------\n",
      "67%  45.5    [38.5, 53.8]   ATPS4r      adp_c + 4.0 h_e + pi_c <=> atp_c + h2...\n",
      "23%  16      [11.2, 17.8]   PGK         3pg_c + atp_c <=> 13dpg_c + adp_c\n",
      "7%    5.06   [0, 7.38]      SUCOAS      atp_c + coa_c + succ_c <=> adp_c + pi...\n",
      "3%    1.76   [0, 12.3]      PYK         adp_c + h_c + pep_c --> atp_c + pyr_c\n",
      "0%    0      [0, 1.91]      ACKr        ac_c + atp_c <=> actp_c + adp_c\n",
      "\n",
      "CONSUMING REACTIONS -- ATP (atp_c)\n",
      "----------------------------------\n",
      "%      FLUX  RANGE          RXN ID      REACTION\n",
      "---  ------  -------------  ----------  ----------------------------------------\n",
      "76%  52.3    [49.7, 52.3]   Biomass...  1.496 3pg_c + 3.7478 accoa_c + 59.81 ...\n",
      "12%   8.39   [8.39, 17]     ATPM        atp_c + h2o_c --> adp_c + h_c + pi_c\n",
      "11%   7.48   [2.58, 16.4]   PFK         atp_c + f6p_c --> adp_c + fdp_c + h_c\n",
      "0%    0.223  [0.212, 8.79]  GLNS        atp_c + glu__L_c + nh4_c --> adp_c + ...\n",
      "0%    0      [0, 8.58]      ADK1        amp_c + atp_c <=> 2.0 adp_c\n",
      "0%    0      [0, 8.58]      PPCK        atp_c + oaa_c --> adp_c + co2_c + pep_c\n",
      "0%    0      [0, 8.58]      PPS         atp_c + h2o_c + pyr_c --> amp_c + 2.0...\n"
     ]
    }
   ],
   "source": [
    "model.metabolites.atp_c.summary(fva=0.95)"
   ]
  },
  {
   "cell_type": "markdown",
   "metadata": {},
   "source": [
    "### Custom bounds and objectives\n",
    "\n",
    "`cobrapy` relies on the [optlang](https://github.com/biosustain/optlang) backend to provide solver support. Therefore, arbitrary objectives and constraints can be added using the optlang interface"
   ]
  },
  {
   "cell_type": "code",
   "execution_count": 24,
   "metadata": {},
   "outputs": [
    {
     "name": "stdout",
     "output_type": "stream",
     "text": [
      "IN FLUXES        OUT FLUXES    OBJECTIVES\n",
      "---------------  ------------  ----------------------\n",
      "o2_e      22.6   h2o_e  29.8   Biomass_Ecol...  0.855\n",
      "glc__D_e  10     co2_e  23.6\n",
      "nh4_e      4.66  h_e    17.2\n",
      "pi_e       3.15\n"
     ]
    }
   ],
   "source": [
    "same_flux = model.problem.Constraint(\n",
    "    model.reactions.FBA.flux_expression - model.reactions.NH4t.flux_expression,\n",
    "    lb=0, ub=0)\n",
    "\n",
    "# Variables and constraints can be added reversibly using the context manager\n",
    "with model:   \n",
    "    model.add_cons_vars(same_flux)\n",
    "    model.summary()"
   ]
  },
  {
   "cell_type": "markdown",
   "metadata": {},
   "source": [
    "Slightly more complicated, ensure that all fluxes in the model have a non-negative absolute flux while minimizing the squared difference between the WT solution and the new solution"
   ]
  },
  {
   "cell_type": "code",
   "execution_count": 25,
   "metadata": {},
   "outputs": [],
   "source": [
    "qp_obj = -sum([(reaction.flux_expression - wt_solution[reaction.id])**2\n",
    "               for reaction in model.reactions])\n",
    "\n",
    "with model:\n",
    "    \n",
    "    for rxn in model.exchanges:\n",
    "        rxn.bounds = (-1000, 1000)\n",
    "\n",
    "    model.solver = 'cplex'\n",
    "    model.objective = qp_obj\n",
    "\n",
    "    for reaction in model.reactions:\n",
    "        indicator = model.problem.Variable(\"b_\" + reaction.id, type=\"binary\")\n",
    "        \n",
    "        neg_constraint = model.problem.Constraint(\n",
    "            reaction.flux_expression + 2000 * indicator,\n",
    "            lb=0.1,\n",
    "            name=reaction.id + \"_neg_const\")\n",
    "        pos_constraint = model.problem.Constraint(\n",
    "            -reaction.flux_expression + 2000 * (1 - indicator),\n",
    "            lb=0.1,\n",
    "            name=reaction.id + \"_pos_const\")\n",
    "\n",
    "        model.add_cons_vars([neg_constraint, pos_constraint, indicator])\n",
    "        \n",
    "    solution = model.optimize()"
   ]
  },
  {
   "cell_type": "code",
   "execution_count": 26,
   "metadata": {},
   "outputs": [
    {
     "data": {
      "text/plain": [
       "0.099999999000022738"
      ]
     },
     "execution_count": 26,
     "metadata": {},
     "output_type": "execute_result"
    }
   ],
   "source": [
    "solution.fluxes.abs().min()"
   ]
  }
 ],
 "metadata": {
  "anaconda-cloud": {},
  "kernelspec": {
   "display_name": "Python [conda env:cobra]",
   "language": "python",
   "name": "conda-env-cobra-py"
  },
  "language_info": {
   "codemirror_mode": {
    "name": "ipython",
    "version": 3
   },
   "file_extension": ".py",
   "mimetype": "text/x-python",
   "name": "python",
   "nbconvert_exporter": "python",
   "pygments_lexer": "ipython3",
   "version": "3.6.1"
  }
 },
 "nbformat": 4,
 "nbformat_minor": 2
}
