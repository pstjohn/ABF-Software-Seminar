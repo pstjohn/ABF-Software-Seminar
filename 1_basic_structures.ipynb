{
 "cells": [
  {
   "cell_type": "markdown",
   "metadata": {},
   "source": [
    "# `cobrapy`: metabolic modeling in python\n",
    "\n",
    "<img src='figs/hero.png' width='400', style='display: block; margin: 0 auto;'>"
   ]
  },
  {
   "cell_type": "markdown",
   "metadata": {},
   "source": [
    "## Introduction to Flux Balance Analysis\n",
    "\n",
    "#### Metabolic networks convert substrates into products and energy \n",
    "\n",
    "![](figs/escher.png)\n",
    "\n",
    "Flux Balance analysis assumes a pseudo-steady-state for each metabolite in the model\n",
    "<img src='figs/metabolic_map_cycle_subset.svg' width='300', style='display: block; margin: 0 auto;'>\n",
    "\n",
    "$$\n",
    "\\begin{aligned}\n",
    "r_2: &\\rightarrow m_2\\\\\n",
    "r_4: m_1 &\\rightarrow m_2\\\\\n",
    "r_6: m_2 &\\rightarrow m_5\\\\\n",
    "\\end{aligned}\n",
    "$$\n",
    "\n",
    "We can then construct a *flux balance*\n",
    "$$\n",
    "v_2 + v_4 = v_6\n",
    "$$\n",
    "\n",
    "Fluxes are therefore constrained by the mass balance equations\n",
    "\n",
    "$$\n",
    "\\begin{aligned}\n",
    "\\mathbf{S}\\mathbf{v} &= 0\\\\\n",
    "\\mathbf{v}_{lb} &\\le \\mathbf{v} \\le \\mathbf{v}_{ub} \\\\\n",
    "\\end{aligned}\n",
    "$$\n",
    "\n",
    "<img src='figs/s_mat.svg' width='300', style='display: block; margin: 0 auto;'>\n",
    "\n",
    "### History of the `cobrapy` package\n",
    "\n",
    "Originally published in 2013:\n",
    "\n",
    "* Ebrahim A, Lerman JA, Palsson BØ, Hyduke DR. COBRApy: COnstraints-Based Reconstruction and Analysis for Python. *BMC Syst Biol.* 2013;7(1):74. [doi.org/10.1186/1752-0509-7-74.](https://doi.org/10.1186/1752-0509-7-74)\n",
    "\n",
    "Now taken over by the Novo Nordisk Center for Biosustainability and other open-source contributors"
   ]
  },
  {
   "cell_type": "markdown",
   "metadata": {},
   "source": [
    "## Installation\n",
    "\n",
    "1. *(optional)* First, create a new conda environment:\n",
    "```\n",
    "conda create --name presentation python=3.6\n",
    "source activate presentation\n",
    "```\n",
    "\n",
    "2. Next, install `cobra` using pip:\n",
    "```\n",
    "pip install cobra\n",
    "```\n",
    "\n",
    "3. Alternatively, install a bleeding-edge version from the github repository\n",
    "```\n",
    "git clone git@github.com:opencobra/cobrapy.git\n",
    "pip install cython\n",
    "pip install -e cobrapy\n",
    "```"
   ]
  },
  {
   "cell_type": "markdown",
   "metadata": {},
   "source": []
  },
  {
   "cell_type": "markdown",
   "metadata": {},
   "source": [
    "## Constructing a model"
   ]
  },
  {
   "cell_type": "code",
   "execution_count": 1,
   "metadata": {},
   "outputs": [
    {
     "name": "stdout",
     "output_type": "stream",
     "text": [
      "0.8.2\n"
     ]
    }
   ],
   "source": [
    "import cobra\n",
    "print(cobra.__version__)"
   ]
  },
  {
   "cell_type": "markdown",
   "metadata": {},
   "source": [
    "### Metabolites\n",
    "\n",
    "Metabolites represent an individual species in the model. For models with multiple compartments, an individual metabolite has to be created for each compartment."
   ]
  },
  {
   "cell_type": "code",
   "execution_count": 2,
   "metadata": {
    "collapsed": true
   },
   "outputs": [],
   "source": [
    "glc = cobra.Metabolite(id='glc', name='D-Glucose', formula='C6H12O6', charge=None)"
   ]
  },
  {
   "cell_type": "markdown",
   "metadata": {},
   "source": [
    "Chemical formulas are parsed automatically"
   ]
  },
  {
   "cell_type": "code",
   "execution_count": 3,
   "metadata": {},
   "outputs": [
    {
     "data": {
      "text/plain": [
       "{'C': 6, 'H': 12, 'O': 6}"
      ]
     },
     "execution_count": 3,
     "metadata": {},
     "output_type": "execute_result"
    }
   ],
   "source": [
    "glc.elements"
   ]
  },
  {
   "cell_type": "code",
   "execution_count": 4,
   "metadata": {},
   "outputs": [
    {
     "data": {
      "text/plain": [
       "180.15588"
      ]
     },
     "execution_count": 4,
     "metadata": {},
     "output_type": "execute_result"
    }
   ],
   "source": [
    "glc.formula_weight"
   ]
  },
  {
   "cell_type": "markdown",
   "metadata": {},
   "source": [
    "### Reactions\n",
    "Reactions are groupings of metabolites with a defined stoichiometry. "
   ]
  },
  {
   "cell_type": "code",
   "execution_count": 5,
   "metadata": {
    "collapsed": true
   },
   "outputs": [],
   "source": [
    "# Create some other needed metabolites\n",
    "pyr = cobra.Metabolite(id='pyr', name='Pyruvate', formula='C3H3O3')\n",
    "pep = cobra.Metabolite(id='pep', name='Phosphoenolpyruvate', formula='C3H2O6P')\n",
    "g6p = cobra.Metabolite(id='g6p', name='D-Glucose 6-phosphate', formula='C6H11O9P')\n",
    "\n",
    "GLCpts = cobra.Reaction(id='GLCpts', name='D-glucose transport via PEP:Pyr PTS',\n",
    "                        lower_bound=0., upper_bound=1000.)\n",
    "\n",
    "GLCpts.add_metabolites({\n",
    " glc: -1.0,\n",
    " pep: -1.0,\n",
    " g6p: 1.0,\n",
    " pyr: 1.0,\n",
    "})"
   ]
  },
  {
   "cell_type": "code",
   "execution_count": 6,
   "metadata": {},
   "outputs": [
    {
     "data": {
      "text/plain": [
       "'glc + pep --> g6p + pyr'"
      ]
     },
     "execution_count": 6,
     "metadata": {},
     "output_type": "execute_result"
    }
   ],
   "source": [
    "GLCpts.reaction"
   ]
  },
  {
   "cell_type": "code",
   "execution_count": 7,
   "metadata": {},
   "outputs": [
    {
     "data": {
      "text/plain": [
       "{}"
      ]
     },
     "execution_count": 7,
     "metadata": {},
     "output_type": "execute_result"
    }
   ],
   "source": [
    "GLCpts.check_mass_balance()"
   ]
  },
  {
   "cell_type": "code",
   "execution_count": 8,
   "metadata": {},
   "outputs": [
    {
     "data": {
      "text/plain": [
       "'glc + pep --> g6p'"
      ]
     },
     "execution_count": 8,
     "metadata": {},
     "output_type": "execute_result"
    }
   ],
   "source": [
    "# Remove pyruvate\n",
    "GLCpts.add_metabolites({pyr: -1})\n",
    "GLCpts.reaction"
   ]
  },
  {
   "cell_type": "code",
   "execution_count": 9,
   "metadata": {},
   "outputs": [
    {
     "data": {
      "text/plain": [
       "{'C': -3.0, 'H': -3.0, 'O': -3.0}"
      ]
     },
     "execution_count": 9,
     "metadata": {},
     "output_type": "execute_result"
    }
   ],
   "source": [
    "GLCpts.check_mass_balance()"
   ]
  },
  {
   "cell_type": "code",
   "execution_count": 10,
   "metadata": {
    "collapsed": true
   },
   "outputs": [],
   "source": [
    "GLCpts.add_metabolites({pyr: 1})"
   ]
  },
  {
   "cell_type": "markdown",
   "metadata": {},
   "source": [
    "#### Reaction bounds\n",
    "\n",
    "Reactions have both a `lower_bound` and `upper_bound` on the flux which can pass through them. These can be manipulated through object attributes:"
   ]
  },
  {
   "cell_type": "code",
   "execution_count": 11,
   "metadata": {},
   "outputs": [
    {
     "data": {
      "text/plain": [
       "-10"
      ]
     },
     "execution_count": 11,
     "metadata": {},
     "output_type": "execute_result"
    }
   ],
   "source": [
    "GLCpts.lower_bound = -10\n",
    "GLCpts.lower_bound"
   ]
  },
  {
   "cell_type": "markdown",
   "metadata": {},
   "source": [
    "The `reversibility` attribute determines whether both positive an negative flux is supported"
   ]
  },
  {
   "cell_type": "code",
   "execution_count": 12,
   "metadata": {},
   "outputs": [
    {
     "data": {
      "text/plain": [
       "True"
      ]
     },
     "execution_count": 12,
     "metadata": {},
     "output_type": "execute_result"
    }
   ],
   "source": [
    "GLCpts.reversibility"
   ]
  },
  {
   "cell_type": "markdown",
   "metadata": {},
   "source": [
    "Bounds can be set at once through the `bounds` attribute, or zeroed using the `knock_out` method"
   ]
  },
  {
   "cell_type": "code",
   "execution_count": 13,
   "metadata": {},
   "outputs": [
    {
     "data": {
      "text/plain": [
       "(0, 0)"
      ]
     },
     "execution_count": 13,
     "metadata": {},
     "output_type": "execute_result"
    }
   ],
   "source": [
    "GLCpts.knock_out()\n",
    "GLCpts.bounds"
   ]
  },
  {
   "cell_type": "code",
   "execution_count": 14,
   "metadata": {},
   "outputs": [
    {
     "data": {
      "text/plain": [
       "1000"
      ]
     },
     "execution_count": 14,
     "metadata": {},
     "output_type": "execute_result"
    }
   ],
   "source": [
    "GLCpts.bounds = (0, 1000)\n",
    "GLCpts.upper_bound"
   ]
  },
  {
   "cell_type": "code",
   "execution_count": 15,
   "metadata": {},
   "outputs": [
    {
     "data": {
      "text/plain": [
       "False"
      ]
     },
     "execution_count": 15,
     "metadata": {},
     "output_type": "execute_result"
    }
   ],
   "source": [
    "GLCpts.reversibility"
   ]
  },
  {
   "cell_type": "markdown",
   "metadata": {},
   "source": [
    "### Models\n",
    "Models form the basis of most of the analysis in `cobrapy`, and are comprised of sets of metabolites and reactions"
   ]
  },
  {
   "cell_type": "code",
   "execution_count": 16,
   "metadata": {},
   "outputs": [],
   "source": [
    "# Create some extra metabolites and reactions\n",
    "atp = cobra.Metabolite('atp')\n",
    "adp = cobra.Metabolite('adp')\n",
    "co2 = cobra.Metabolite('co2')\n",
    "\n",
    "upper_glycol = cobra.Reaction(id='upg')\n",
    "lower_glycol = cobra.Reaction(id='lwg')\n",
    "atp_maint    = cobra.Reaction(id='atpm')\n",
    "pyr_kin      = cobra.Reaction(id='pyk')\n",
    "\n",
    "\n",
    "upper_glycol.add_metabolites({\n",
    "    g6p: -1,\n",
    "    pyr: 1,\n",
    "    pep: 1,    \n",
    "})\n",
    "\n",
    "lower_glycol.add_metabolites({\n",
    "    pyr: -1,\n",
    "    adp: -3,\n",
    "    co2: 3,\n",
    "    atp: 3,\n",
    "})\n",
    "\n",
    "atp_maint.add_metabolites({\n",
    "    atp: -1,\n",
    "    adp: 1,\n",
    "})\n",
    "\n",
    "pyr_kin.add_metabolites({\n",
    "    pyr: -1,\n",
    "    adp: -1,\n",
    "    atp: 1,\n",
    "    pep: 1,\n",
    "})"
   ]
  },
  {
   "cell_type": "markdown",
   "metadata": {},
   "source": [
    "Create the model object"
   ]
  },
  {
   "cell_type": "code",
   "execution_count": 17,
   "metadata": {
    "collapsed": true
   },
   "outputs": [],
   "source": [
    "test_model = cobra.Model('test')"
   ]
  },
  {
   "cell_type": "markdown",
   "metadata": {},
   "source": [
    "Add reactions to the model. Note that metabolites are added automatically"
   ]
  },
  {
   "cell_type": "code",
   "execution_count": 18,
   "metadata": {},
   "outputs": [
    {
     "data": {
      "text/plain": [
       "[<Metabolite g6p at 0x118ca5860>,\n",
       " <Metabolite pyr at 0x118ca57b8>,\n",
       " <Metabolite pep at 0x118ca57f0>,\n",
       " <Metabolite adp at 0x118caf7b8>,\n",
       " <Metabolite co2 at 0x118caf828>,\n",
       " <Metabolite atp at 0x118caf7f0>,\n",
       " <Metabolite glc at 0x118c90978>]"
      ]
     },
     "execution_count": 18,
     "metadata": {},
     "output_type": "execute_result"
    }
   ],
   "source": [
    "test_model.add_reactions([upper_glycol, lower_glycol, atp_maint, GLCpts])\n",
    "\n",
    "# Add exchanges for the boundary species\n",
    "co2_bound = test_model.add_boundary(test_model.metabolites.co2)\n",
    "glc_bound = test_model.add_boundary(test_model.metabolites.glc)\n",
    "glc_bound.lower_bound = -10\n",
    "\n",
    "test_model.metabolites"
   ]
  },
  {
   "cell_type": "code",
   "execution_count": 19,
   "metadata": {},
   "outputs": [
    {
     "data": {
      "text/plain": [
       "[<Reaction upg at 0x118caf860>,\n",
       " <Reaction lwg at 0x118caf8d0>,\n",
       " <Reaction atpm at 0x118caf940>,\n",
       " <Reaction GLCpts at 0x118ca5898>,\n",
       " <Reaction EX_co2 at 0x118ca5be0>,\n",
       " <Reaction EX_glc at 0x118ca5da0>]"
      ]
     },
     "execution_count": 19,
     "metadata": {},
     "output_type": "execute_result"
    }
   ],
   "source": [
    "test_model.reactions"
   ]
  },
  {
   "cell_type": "markdown",
   "metadata": {},
   "source": [
    "Models link metabolites and reactions: lower-level objects are aware of their links to other objects in the model"
   ]
  },
  {
   "cell_type": "code",
   "execution_count": 20,
   "metadata": {},
   "outputs": [
    {
     "data": {
      "text/plain": [
       "frozenset({<Reaction GLCpts at 0x118ca5898>,\n",
       "           <Reaction lwg at 0x118caf8d0>,\n",
       "           <Reaction upg at 0x118caf860>,\n",
       "           <Reaction pyk at 0x118caf978>})"
      ]
     },
     "execution_count": 20,
     "metadata": {},
     "output_type": "execute_result"
    }
   ],
   "source": [
    "test_model.metabolites.pyr.reactions"
   ]
  },
  {
   "cell_type": "code",
   "execution_count": 21,
   "metadata": {},
   "outputs": [
    {
     "data": {
      "text/plain": [
       "[<Metabolite g6p at 0x118ca5860>]"
      ]
     },
     "execution_count": 21,
     "metadata": {},
     "output_type": "execute_result"
    }
   ],
   "source": [
    "test_model.reactions.upg.reactants"
   ]
  },
  {
   "cell_type": "markdown",
   "metadata": {},
   "source": [
    "### Copying models\n",
    "Models can be deep-copied to allow for divergent edits to metabolite and reaction connectivity"
   ]
  },
  {
   "cell_type": "code",
   "execution_count": 22,
   "metadata": {
    "collapsed": true
   },
   "outputs": [],
   "source": [
    "copied_model = test_model.copy()\n",
    "copied_model.reactions.upg.remove_from_model()\n",
    "copied_model.reactions.GLCpts.remove_from_model()"
   ]
  },
  {
   "cell_type": "markdown",
   "metadata": {},
   "source": [
    "Note the different memory locations of the reaction objects"
   ]
  },
  {
   "cell_type": "code",
   "execution_count": 23,
   "metadata": {},
   "outputs": [
    {
     "data": {
      "text/plain": [
       "[<Reaction lwg at 0x118caf278>,\n",
       " <Reaction atpm at 0x118caf400>,\n",
       " <Reaction EX_co2 at 0x118caf518>,\n",
       " <Reaction EX_glc at 0x118caf630>]"
      ]
     },
     "execution_count": 23,
     "metadata": {},
     "output_type": "execute_result"
    }
   ],
   "source": [
    "copied_model.reactions"
   ]
  },
  {
   "cell_type": "code",
   "execution_count": 24,
   "metadata": {},
   "outputs": [
    {
     "data": {
      "text/plain": [
       "[<Reaction upg at 0x118caf860>,\n",
       " <Reaction lwg at 0x118caf8d0>,\n",
       " <Reaction atpm at 0x118caf940>,\n",
       " <Reaction GLCpts at 0x118ca5898>,\n",
       " <Reaction EX_co2 at 0x118ca5be0>,\n",
       " <Reaction EX_glc at 0x118ca5da0>]"
      ]
     },
     "execution_count": 24,
     "metadata": {},
     "output_type": "execute_result"
    }
   ],
   "source": [
    "test_model.reactions"
   ]
  },
  {
   "cell_type": "markdown",
   "metadata": {},
   "source": [
    "### Reading and writing `cobra` models\n",
    "\n",
    "`cobrapy` can read and write models to SBML, the cobra MATLAB format, and also to a standalone `.json` / `yaml` format.\n",
    "\n",
    "#### SBML\n",
    "Example taken from http://systemsbiology.ucsd.edu/InSilicoOrganisms/Ecoli/EcoliSBML"
   ]
  },
  {
   "cell_type": "code",
   "execution_count": 25,
   "metadata": {},
   "outputs": [
    {
     "data": {
      "text/html": [
       "\n",
       "        <table>\n",
       "            <tr>\n",
       "                <td><strong>Name</strong></td>\n",
       "                <td>Ec_core</td>\n",
       "            </tr><tr>\n",
       "                <td><strong>Memory address</strong></td>\n",
       "                <td>0x0118dae320</td>\n",
       "            </tr><tr>\n",
       "                <td><strong>Number of metabolites</strong></td>\n",
       "                <td>63</td>\n",
       "            </tr><tr>\n",
       "                <td><strong>Number of reactions</strong></td>\n",
       "                <td>77</td>\n",
       "            </tr><tr>\n",
       "                <td><strong>Objective expression</strong></td>\n",
       "                <td>-1.0*Biomass_Ecoli_core_N__w_GAM__reverse_d9451 + 1.0*Biomass_Ecoli_core_N__w_GAM_</td>\n",
       "            </tr><tr>\n",
       "                <td><strong>Compartments</strong></td>\n",
       "                <td>Extra_organism, Cytosol</td>\n",
       "            </tr>\n",
       "          </table>"
      ],
      "text/plain": [
       "<Model Ec_core at 0x118dae320>"
      ]
     },
     "execution_count": 25,
     "metadata": {},
     "output_type": "execute_result"
    }
   ],
   "source": [
    "ecoli = cobra.io.read_sbml_model('data/Ec_core_flux1.xml')\n",
    "ecoli"
   ]
  },
  {
   "cell_type": "code",
   "execution_count": 26,
   "metadata": {},
   "outputs": [
    {
     "data": {
      "text/plain": [
       "frozenset({<Reaction Biomass_Ecoli_core_N__w_GAM_ at 0x118dccc50>,\n",
       "           <Reaction ATPS4r at 0x118dccc88>,\n",
       "           <Reaction PPCK at 0x118dfccf8>,\n",
       "           <Reaction SUCOAS at 0x118e0f128>,\n",
       "           <Reaction PYK at 0x118e05550>,\n",
       "           <Reaction PGK at 0x118dfca58>,\n",
       "           <Reaction PPS at 0x118e05278>,\n",
       "           <Reaction ADK1 at 0x118dcc6a0>,\n",
       "           <Reaction PFK at 0x118df0b38>,\n",
       "           <Reaction ACKr at 0x118dcc358>,\n",
       "           <Reaction ATPM at 0x118dccba8>})"
      ]
     },
     "execution_count": 26,
     "metadata": {},
     "output_type": "execute_result"
    }
   ],
   "source": [
    "ecoli.metabolites.atp_c.reactions"
   ]
  },
  {
   "cell_type": "markdown",
   "metadata": {},
   "source": [
    "#### JSON"
   ]
  },
  {
   "cell_type": "code",
   "execution_count": 27,
   "metadata": {},
   "outputs": [
    {
     "name": "stdout",
     "output_type": "stream",
     "text": [
      "{\n",
      "    \"compartments\": {},\n",
      "    \"genes\": [],\n",
      "    \"id\": \"test\",\n",
      "    \"metabolites\": [\n",
      "        {\n",
      "            \"compartment\": \"\",\n",
      "            \"id\": \"adp\",\n",
      "            \"name\": \"\"\n",
      "        },\n",
      "        {\n",
      "            \"compartment\": \"\",\n",
      "            \"id\": \"atp\",\n",
      "            \"name\": \"\"\n",
      "        },\n",
      "\n",
      "...\n"
     ]
    }
   ],
   "source": [
    "cobra.io.save_json_model(test_model, 'data/test_model.json', pretty=True)\n",
    "\n",
    "with open('data/test_model.json') as myfile:\n",
    "    head = [next(myfile) for x in range(15)]\n",
    "print(''.join(head))\n",
    "print('...')"
   ]
  },
  {
   "cell_type": "markdown",
   "metadata": {},
   "source": [
    "#### YAML"
   ]
  },
  {
   "cell_type": "code",
   "execution_count": 28,
   "metadata": {},
   "outputs": [
    {
     "name": "stdout",
     "output_type": "stream",
     "text": [
      "!!omap\n",
      "- reactions:\n",
      "  - !!omap\n",
      "    - id: EX_co2\n",
      "    - name: ' exchange'\n",
      "    - metabolites: !!omap\n",
      "      - co2: -1\n",
      "    - lower_bound: -1000.0\n",
      "    - upper_bound: 1000.0\n",
      "    - gene_reaction_rule: ''\n",
      "  - !!omap\n",
      "    - id: EX_glc\n",
      "    - name: D-Glucose exchange\n",
      "    - metabolites: !!omap\n",
      "      - glc: -1\n",
      "\n",
      "...\n"
     ]
    }
   ],
   "source": [
    "cobra.io.save_yaml_model(test_model, 'data/test_model.yaml')\n",
    "\n",
    "with open('data/test_model.yaml') as myfile:\n",
    "    head = [next(myfile) for x in range(15)]\n",
    "print(''.join(head))\n",
    "print('...')"
   ]
  }
 ],
 "metadata": {
  "anaconda-cloud": {},
  "kernelspec": {
   "display_name": "Python [conda env:cobra]",
   "language": "python",
   "name": "conda-env-cobra-py"
  },
  "language_info": {
   "codemirror_mode": {
    "name": "ipython",
    "version": 3
   },
   "file_extension": ".py",
   "mimetype": "text/x-python",
   "name": "python",
   "nbconvert_exporter": "python",
   "pygments_lexer": "ipython3",
   "version": "3.6.1"
  }
 },
 "nbformat": 4,
 "nbformat_minor": 2
}
