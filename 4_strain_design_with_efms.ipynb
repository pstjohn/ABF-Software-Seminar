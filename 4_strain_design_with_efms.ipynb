{
 "cells": [
  {
   "cell_type": "code",
   "execution_count": null,
   "metadata": {
    "collapsed": true
   },
   "outputs": [],
   "source": [
    "import cobra\n",
    "import d3flux as d3f\n",
    "\n",
    "# Plotting utilities\n",
    "import numpy as np\n",
    "import pandas as pd\n",
    "import matplotlib.pyplot as plt\n",
    "import seaborn as sns\n",
    "sns.set(context='talk', style='ticks', color_codes=True)\n",
    "%matplotlib inline"
   ]
  },
  {
   "cell_type": "markdown",
   "metadata": {},
   "source": [
    "## Elementary flux modes\n",
    "\n",
    "<img src='figs/em_decomp_yield_1.svg' width='500', style='display: block; margin: 0 auto;'>\n",
    "\n",
    "Decomposes the network into a unique set of sub-graphs\n",
    "\n",
    "$$\n",
    "\\begin{aligned}\n",
    "\\mathbf{S}\\mathbf{r}_i &= 0\\\\\n",
    "\\end{aligned}\n",
    "$$\n",
    "\n",
    "Any feasible flux can be expressed by a nonnegative combination of EFMs\n",
    "\n",
    "$$\n",
    "\\mathbf{v} = a_0 \\mathbf{r}_0 + a_1 \\mathbf{r}_1 + \\cdots\n",
    "$$\n",
    "\n",
    "EFMS reveal the feasible flux space of the model\n",
    "\n",
    "<img src='figs/em_decomp_yield_surf.svg' width='300', style='display: block; margin: 0 auto;'>\n"
   ]
  },
  {
   "cell_type": "markdown",
   "metadata": {},
   "source": [
    "### Elementary modes and mimimum cut sets\n",
    "\n",
    "Wrapper code for `efmtool` and `MhsCalculator` are available at [<i class='fa fa-github'></i> pstjohn/pyefm](https://github.com/pstjohn/pyefm)"
   ]
  },
  {
   "cell_type": "code",
   "execution_count": null,
   "metadata": {
    "collapsed": true
   },
   "outputs": [],
   "source": [
    "from pyefm import calculate_elementary_modes, calculate_minimum_cut_sets"
   ]
  },
  {
   "cell_type": "code",
   "execution_count": null,
   "metadata": {},
   "outputs": [],
   "source": [
    "from cobra.core import Metabolite, Reaction, Model\n",
    "\n",
    "simple_model = Model('simple_model')\n",
    "\n",
    "A = Metabolite('A')\n",
    "B = Metabolite('B')\n",
    "C = Metabolite('C')\n",
    "D = Metabolite('D')\n",
    "E = Metabolite('E')\n",
    "P = Metabolite('P')\n",
    "\n",
    "R1 = Reaction('R1')\n",
    "R2 = Reaction('R2')\n",
    "R3 = Reaction('R3')\n",
    "R4 = Reaction('R4')\n",
    "R5 = Reaction('R5')\n",
    "R6 = Reaction('R6')\n",
    "R7 = Reaction('R7')\n",
    "R8 = Reaction('R8')\n",
    "R9 = Reaction('R9')\n",
    "R10 = Reaction('R10')\n",
    "\n",
    "simple_model.add_metabolites([A, B, C, D, E, P])\n",
    "simple_model.add_reactions([R1, R2, R3, R4, R5, R6, R7, R8, R9, R10])\n",
    "\n",
    "simple_model.reactions.R1.build_reaction_from_string('--> A')\n",
    "simple_model.reactions.R2.build_reaction_from_string('<--> B')\n",
    "simple_model.reactions.R3.build_reaction_from_string('P -->')\n",
    "simple_model.reactions.R4.build_reaction_from_string('E -->')\n",
    "simple_model.reactions.R5.build_reaction_from_string('A --> B')\n",
    "simple_model.reactions.R6.build_reaction_from_string('A --> C')\n",
    "simple_model.reactions.R7.build_reaction_from_string('A --> D')\n",
    "simple_model.reactions.R8.build_reaction_from_string('B <--> C')\n",
    "simple_model.reactions.R9.build_reaction_from_string('B --> P')\n",
    "simple_model.reactions.R10.build_reaction_from_string('C + D --> E + P')\n",
    "\n",
    "d3f.flux_map(simple_model,\n",
    "             display_name_format=lambda x: x.id,\n",
    "             flux_dict={r.id: None for r in simple_model.reactions},\n",
    "             figsize=(1000, 300))"
   ]
  },
  {
   "cell_type": "code",
   "execution_count": null,
   "metadata": {},
   "outputs": [],
   "source": [
    "simple_efms = calculate_elementary_modes(simple_model)\n",
    "simple_efms"
   ]
  },
  {
   "cell_type": "markdown",
   "metadata": {},
   "source": [
    "## Minimum cut sets\n",
    "\n",
    "Minimum cut sets find the smallest sets of reactions to remove all target EFMs. *Constrained* minimum cut sets remove all target modes while keeping at least one desired mode\n",
    "\n",
    "* Hadicke O, Klamt S. Computing complex metabolic intervention strategies using constrained minimal cut sets. Metab Eng. 2011;13(2):204-213. [doi:10.1016/j.ymben.2010.12.004.](https://www.ncbi.nlm.nih.gov/pubmed/21147248)"
   ]
  },
  {
   "cell_type": "markdown",
   "metadata": {},
   "source": [
    "Make P without making E?"
   ]
  },
  {
   "cell_type": "code",
   "execution_count": null,
   "metadata": {},
   "outputs": [],
   "source": [
    "good = simple_efms[simple_efms.R3 > 0]\n",
    "bad = simple_efms[simple_efms.R4 > 0]\n",
    "\n",
    "mcs = calculate_minimum_cut_sets(good, bad, keep=1, verbose=False)\n",
    "\n",
    "# Some post-processing code\n",
    "sorted_cutsets = mcs.iloc[mcs.sum(1).argsort()]\n",
    "rxn_kos = sorted_cutsets.T.apply(\n",
    "    lambda x: [simple_model.reactions.get_by_id(xi).reaction\n",
    "               for xi in x.loc[x].index])\n",
    "rxn_kos"
   ]
  },
  {
   "cell_type": "markdown",
   "metadata": {},
   "source": [
    "### Muconate production in *P. putida*"
   ]
  },
  {
   "cell_type": "code",
   "execution_count": null,
   "metadata": {},
   "outputs": [],
   "source": [
    "from Models.putida import v9_presentation\n",
    "\n",
    "model = v9_presentation()\n",
    "model.optimize()\n",
    "\n",
    "d3f.flux_map(model)"
   ]
  },
  {
   "cell_type": "markdown",
   "metadata": {},
   "source": [
    "This calculation takes a couple minutes, so I've cached the results from ahead of time.\n",
    "The actual calculation is just done with\n",
    "```python\n",
    "efms = calculate_elementary_modes(model)\n",
    "efms.to_pickle('data/muconate_efms.p')\n",
    "```"
   ]
  },
  {
   "cell_type": "code",
   "execution_count": null,
   "metadata": {},
   "outputs": [],
   "source": [
    "efms = pd.read_pickle('data/muconate_efms.p')\n",
    "\n",
    "# Normalize by glucose uptake\n",
    "efms = efms.divide(-efms.EX_glc_e, 0)\n",
    "efms.shape"
   ]
  },
  {
   "cell_type": "code",
   "execution_count": null,
   "metadata": {
    "collapsed": true
   },
   "outputs": [],
   "source": [
    "good    = efms[(efms.muconate_sink > 0.3) & (efms.Biomass_Ecoli_core_w_GAM > .01)]\n",
    "bad     = efms[(efms.muconate_sink < 0.3) & (efms.Biomass_Ecoli_core_w_GAM > .0025)]\n",
    "neutral = efms[(~efms.index.isin(good.index) & ~efms.index.isin(bad.index))]"
   ]
  },
  {
   "cell_type": "code",
   "execution_count": null,
   "metadata": {
    "collapsed": true
   },
   "outputs": [],
   "source": [
    "import matplotlib\n",
    "\n",
    "def plot_efms(ax, efms, color=None, patch=None):\n",
    "    ax.plot(efms.muconate_sink, efms.Biomass_Ecoli_core_w_GAM, '.', color=color, rasterized=True)\n",
    "\n",
    "def lighten_color(color, degree):\n",
    "    cin = matplotlib.colors.colorConverter.to_rgb(color)\n",
    "    cw = np.array([1.0]*3)\n",
    "    return tuple(cin + (cw - cin)*degree)"
   ]
  },
  {
   "cell_type": "code",
   "execution_count": null,
   "metadata": {},
   "outputs": [],
   "source": [
    "with sns.axes_style('ticks'):\n",
    "    fig = plt.figure(figsize=(5,5))\n",
    "    ax = fig.add_subplot(111)\n",
    "\n",
    "    plot_efms(ax, neutral, 'b')\n",
    "    plot_efms(ax, good, 'g', patch='Good')\n",
    "    plot_efms(ax, bad, 'r', patch='Bad')\n",
    "    \n",
    "    ax.add_patch(plt.Polygon(np.array([[0, .0025], [0, .09], [.3, .09], [.3, .0025]]),\n",
    "                 facecolor=lighten_color('r', .9), edgecolor='none'))\n",
    "    ax.add_patch(plt.Polygon(np.array([[0.3, .01], [0.3, .06], [.7, .06], [.7, .01]]),\n",
    "                 facecolor=lighten_color('g', .9), edgecolor='none'))\n",
    "\n",
    "    sns.despine()\n",
    "    \n",
    "    ax.text(.175, .09, 'EFMs\\nto remove',\n",
    "            fontdict={'color' : 'r', 'weight' : 'bold', 'size' : 18, 'style' : 'italic'})\n",
    "    ax.text(.55, .04, 'EFMs\\nto keep',\n",
    "            fontdict={'color' : 'g', 'weight' : 'bold', 'size' : 18, 'style' : 'italic'})\n",
    "    \n",
    "    ax.set_xlabel('Muconate yield (mol/mol)')\n",
    "    ax.set_ylabel('Biomass yield (g DCW/mol)')\n",
    "    \n",
    "    ax.set_ylim([0, .09])\n",
    "    ax.set_xlim([0, 0.8])\n",
    "    sns.despine(trim=True, offset=10)\n",
    "    fig.tight_layout()"
   ]
  },
  {
   "cell_type": "code",
   "execution_count": null,
   "metadata": {
    "collapsed": true
   },
   "outputs": [],
   "source": [
    "essential_reactions = model.reactions.query(lambda x: x != set('c'), attribute='compartments')\n",
    "essential_reactions += [model.reactions.HCO3E]\n",
    "cutsets = calculate_minimum_cut_sets(good, bad, keep=1,\n",
    "                                     essential_reactions=essential_reactions,\n",
    "                                     verbose=False)"
   ]
  },
  {
   "cell_type": "code",
   "execution_count": null,
   "metadata": {},
   "outputs": [],
   "source": [
    "sorted_cutsets = cutsets.iloc[cutsets.sum(1).argsort()]\n",
    "rxn_kos = sorted_cutsets.T.apply(lambda x: list(x.loc[x].index))\n",
    "rxn_kos.name = 'rxnkos'\n",
    "rxn_kos.head(10)"
   ]
  },
  {
   "cell_type": "code",
   "execution_count": null,
   "metadata": {},
   "outputs": [],
   "source": [
    "with model:\n",
    "    for rxn in rxn_kos.iloc[1]:\n",
    "        model.reactions.get_by_id(rxn).knock_out()\n",
    "    model.summary()\n",
    "    svg = d3f.flux_map(model, inactive_alpha=0.5)"
   ]
  },
  {
   "cell_type": "code",
   "execution_count": null,
   "metadata": {},
   "outputs": [],
   "source": [
    "svg"
   ]
  }
 ],
 "metadata": {
  "anaconda-cloud": {},
  "kernelspec": {
   "display_name": "Python [conda env:cobra]",
   "language": "python",
   "name": "conda-env-cobra-py"
  },
  "language_info": {
   "codemirror_mode": {
    "name": "ipython",
    "version": 3
   },
   "file_extension": ".py",
   "mimetype": "text/x-python",
   "name": "python",
   "nbconvert_exporter": "python",
   "pygments_lexer": "ipython3",
   "version": "3.6.1"
  }
 },
 "nbformat": 4,
 "nbformat_minor": 2
}
